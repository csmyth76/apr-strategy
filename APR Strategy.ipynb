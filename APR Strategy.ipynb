{
 "cells": [
  {
   "cell_type": "markdown",
   "metadata": {
    "toc": true
   },
   "source": [
    "<h1>Table of Contents<span class=\"tocSkip\"></span></h1>\n",
    "<div class=\"toc\"><ul class=\"toc-item\"><li><span><a href=\"#Summary\" data-toc-modified-id=\"Summary-1\"><span class=\"toc-item-num\">1&nbsp;&nbsp;</span>Summary</a></span></li><li><span><a href=\"#Data-First-Look\" data-toc-modified-id=\"Data-First-Look-2\"><span class=\"toc-item-num\">2&nbsp;&nbsp;</span>Data First Look</a></span></li><li><span><a href=\"#Data-Cleaning\" data-toc-modified-id=\"Data-Cleaning-3\"><span class=\"toc-item-num\">3&nbsp;&nbsp;</span>Data Cleaning</a></span><ul class=\"toc-item\"><li><span><a href=\"#Drop-Unnamed-Columns\" data-toc-modified-id=\"Drop-Unnamed-Columns-3.1\"><span class=\"toc-item-num\">3.1&nbsp;&nbsp;</span>Drop Unnamed Columns</a></span></li><li><span><a href=\"#Missing-Data-Points\" data-toc-modified-id=\"Missing-Data-Points-3.2\"><span class=\"toc-item-num\">3.2&nbsp;&nbsp;</span>Missing Data Points</a></span><ul class=\"toc-item\"><li><span><a href=\"#Counts\" data-toc-modified-id=\"Counts-3.2.1\"><span class=\"toc-item-num\">3.2.1&nbsp;&nbsp;</span>Counts</a></span></li><li><span><a href=\"#Percent-Missing\" data-toc-modified-id=\"Percent-Missing-3.2.2\"><span class=\"toc-item-num\">3.2.2&nbsp;&nbsp;</span>Percent Missing</a></span></li><li><span><a href=\"#Replace-NaNs\" data-toc-modified-id=\"Replace-NaNs-3.2.3\"><span class=\"toc-item-num\">3.2.3&nbsp;&nbsp;</span>Replace NaNs</a></span></li></ul></li><li><span><a href=\"#APR-to-Float\" data-toc-modified-id=\"APR-to-Float-3.3\"><span class=\"toc-item-num\">3.3&nbsp;&nbsp;</span>APR to Float</a></span></li></ul></li><li><span><a href=\"#Question-Answers-and-Analysis\" data-toc-modified-id=\"Question-Answers-and-Analysis-4\"><span class=\"toc-item-num\">4&nbsp;&nbsp;</span>Question Answers and Analysis</a></span><ul class=\"toc-item\"><li><span><a href=\"#Q1A:-What’s-the-current-APR-pricing-strategy-for-the-different-FICO-buckets?\" data-toc-modified-id=\"Q1A:-What’s-the-current-APR-pricing-strategy-for-the-different-FICO-buckets?-4.1\"><span class=\"toc-item-num\">4.1&nbsp;&nbsp;</span>Q1A: What’s the current APR pricing strategy for the different FICO buckets?</a></span></li><li><span><a href=\"#Q1B:-How-is-the-randomized-test-structured?\" data-toc-modified-id=\"Q1B:-How-is-the-randomized-test-structured?-4.2\"><span class=\"toc-item-num\">4.2&nbsp;&nbsp;</span>Q1B: How is the randomized test structured?</a></span></li><li><span><a href=\"#Q1C:-How-do-APR's-vary-by-test-group?\" data-toc-modified-id=\"Q1C:-How-do-APR's-vary-by-test-group?-4.3\"><span class=\"toc-item-num\">4.3&nbsp;&nbsp;</span>Q1C: How do APR's vary by test group?</a></span></li><li><span><a href=\"#Q2A:-How-many-applications-is-Carvana-able-to-convert-to-a-sale?\" data-toc-modified-id=\"Q2A:-How-many-applications-is-Carvana-able-to-convert-to-a-sale?-4.4\"><span class=\"toc-item-num\">4.4&nbsp;&nbsp;</span>Q2A: How many applications is Carvana able to convert to a sale?</a></span></li><li><span><a href=\"#Q2B:-How-does-that-vary-by-FICO?\" data-toc-modified-id=\"Q2B:-How-does-that-vary-by-FICO?-4.5\"><span class=\"toc-item-num\">4.5&nbsp;&nbsp;</span>Q2B: How does that vary by FICO?</a></span></li><li><span><a href=\"#Q2C:-Using-the-APR-test-group-data,-how-does-the-APR-affect-conversion?\" data-toc-modified-id=\"Q2C:-Using-the-APR-test-group-data,-how-does-the-APR-affect-conversion?-4.6\"><span class=\"toc-item-num\">4.6&nbsp;&nbsp;</span>Q2C: Using the APR test group data, how does the APR affect conversion?</a></span></li><li><span><a href=\"#Q3A:-What-does-Carvana-make-in-margin-overall,-per-sale-and-per-application?\" data-toc-modified-id=\"Q3A:-What-does-Carvana-make-in-margin-overall,-per-sale-and-per-application?-4.7\"><span class=\"toc-item-num\">4.7&nbsp;&nbsp;</span>Q3A: What does Carvana make in margin overall, per sale and per application?</a></span></li><li><span><a href=\"#Q3B:-How-does-APR-affect-the-finance-margin-per-sale?\" data-toc-modified-id=\"Q3B:-How-does-APR-affect-the-finance-margin-per-sale?-4.8\"><span class=\"toc-item-num\">4.8&nbsp;&nbsp;</span>Q3B: How does APR affect the finance margin per sale?</a></span></li><li><span><a href=\"#Q3C:-How-does-FICO-affect-the-finance-margin-per-sale?\" data-toc-modified-id=\"Q3C:-How-does-FICO-affect-the-finance-margin-per-sale?-4.9\"><span class=\"toc-item-num\">4.9&nbsp;&nbsp;</span>Q3C: How does FICO affect the finance margin per sale?</a></span></li><li><span><a href=\"#Q4:-If-Carvana-wants-to-optimize-total-margin,-do-you-think-Carvana-should-raise-or-lower-rates-on-700-FICO-customers?--What-about-600-FICO-customers?\" data-toc-modified-id=\"Q4:-If-Carvana-wants-to-optimize-total-margin,-do-you-think-Carvana-should-raise-or-lower-rates-on-700-FICO-customers?--What-about-600-FICO-customers?-4.10\"><span class=\"toc-item-num\">4.10&nbsp;&nbsp;</span>Q4: If Carvana wants to optimize total margin, do you think Carvana should raise or lower rates on 700 FICO customers?  What about 600 FICO customers?</a></span></li><li><span><a href=\"#Q5:-5.----Other-than-these-cut-and-dry-numbers,-can-you-think-of-other-factors-Carvana-might-want-to-take-into-account-before-changing-rates?\" data-toc-modified-id=\"Q5:-5.----Other-than-these-cut-and-dry-numbers,-can-you-think-of-other-factors-Carvana-might-want-to-take-into-account-before-changing-rates?-4.11\"><span class=\"toc-item-num\">4.11&nbsp;&nbsp;</span>Q5: 5.    Other than these cut and dry numbers, can you think of other factors Carvana might want to take into account before changing rates?</a></span></li></ul></li></ul></div>"
   ]
  },
  {
   "cell_type": "markdown",
   "metadata": {},
   "source": [
    "# Summary\n",
    "\n",
    "Questions have been divided into sub-sections. Each question is answered in the section and is followed by the supporting analysis and tables."
   ]
  },
  {
   "cell_type": "code",
   "execution_count": 1,
   "metadata": {},
   "outputs": [],
   "source": [
    "import pandas as pd\n",
    "import numpy as np\n",
    "import matplotlib.pyplot as plt"
   ]
  },
  {
   "cell_type": "code",
   "execution_count": 2,
   "metadata": {
    "collapsed": true
   },
   "outputs": [],
   "source": [
    "df=pd.read_csv('APR_strategy_w._randomized_experiment.csv')"
   ]
  },
  {
   "cell_type": "markdown",
   "metadata": {},
   "source": [
    "# Data First Look"
   ]
  },
  {
   "cell_type": "code",
   "execution_count": 3,
   "metadata": {},
   "outputs": [
    {
     "data": {
      "text/plain": [
       "(20000, 11)"
      ]
     },
     "execution_count": 3,
     "metadata": {},
     "output_type": "execute_result"
    }
   ],
   "source": [
    "df.shape"
   ]
  },
  {
   "cell_type": "code",
   "execution_count": 4,
   "metadata": {},
   "outputs": [
    {
     "data": {
      "text/html": [
       "<div>\n",
       "<style scoped>\n",
       "    .dataframe tbody tr th:only-of-type {\n",
       "        vertical-align: middle;\n",
       "    }\n",
       "\n",
       "    .dataframe tbody tr th {\n",
       "        vertical-align: top;\n",
       "    }\n",
       "\n",
       "    .dataframe thead th {\n",
       "        text-align: right;\n",
       "    }\n",
       "</style>\n",
       "<table border=\"1\" class=\"dataframe\">\n",
       "  <thead>\n",
       "    <tr style=\"text-align: right;\">\n",
       "      <th></th>\n",
       "      <th>app_id</th>\n",
       "      <th>fico</th>\n",
       "      <th>apr_test_group</th>\n",
       "      <th>apr</th>\n",
       "      <th>converted to sale</th>\n",
       "      <th>vehicle margin</th>\n",
       "      <th>finance margin</th>\n",
       "      <th>Unnamed: 7</th>\n",
       "      <th>Unnamed: 8</th>\n",
       "      <th>Unnamed: 9</th>\n",
       "      <th>Unnamed: 10</th>\n",
       "    </tr>\n",
       "  </thead>\n",
       "  <tbody>\n",
       "    <tr>\n",
       "      <th>0</th>\n",
       "      <td>1</td>\n",
       "      <td>700</td>\n",
       "      <td>control</td>\n",
       "      <td>4.0%</td>\n",
       "      <td>False</td>\n",
       "      <td>NaN</td>\n",
       "      <td>NaN</td>\n",
       "      <td>NaN</td>\n",
       "      <td>NaN</td>\n",
       "      <td>NaN</td>\n",
       "      <td>NaN</td>\n",
       "    </tr>\n",
       "    <tr>\n",
       "      <th>1</th>\n",
       "      <td>2</td>\n",
       "      <td>700</td>\n",
       "      <td>test</td>\n",
       "      <td>3.0%</td>\n",
       "      <td>False</td>\n",
       "      <td>NaN</td>\n",
       "      <td>NaN</td>\n",
       "      <td>NaN</td>\n",
       "      <td>NaN</td>\n",
       "      <td>NaN</td>\n",
       "      <td>NaN</td>\n",
       "    </tr>\n",
       "    <tr>\n",
       "      <th>2</th>\n",
       "      <td>3</td>\n",
       "      <td>700</td>\n",
       "      <td>test</td>\n",
       "      <td>3.0%</td>\n",
       "      <td>False</td>\n",
       "      <td>NaN</td>\n",
       "      <td>NaN</td>\n",
       "      <td>NaN</td>\n",
       "      <td>NaN</td>\n",
       "      <td>NaN</td>\n",
       "      <td>NaN</td>\n",
       "    </tr>\n",
       "    <tr>\n",
       "      <th>3</th>\n",
       "      <td>4</td>\n",
       "      <td>700</td>\n",
       "      <td>control</td>\n",
       "      <td>4.0%</td>\n",
       "      <td>False</td>\n",
       "      <td>NaN</td>\n",
       "      <td>NaN</td>\n",
       "      <td>NaN</td>\n",
       "      <td>NaN</td>\n",
       "      <td>NaN</td>\n",
       "      <td>NaN</td>\n",
       "    </tr>\n",
       "    <tr>\n",
       "      <th>4</th>\n",
       "      <td>5</td>\n",
       "      <td>700</td>\n",
       "      <td>control</td>\n",
       "      <td>4.0%</td>\n",
       "      <td>True</td>\n",
       "      <td>1000.0</td>\n",
       "      <td>600.0</td>\n",
       "      <td>NaN</td>\n",
       "      <td>NaN</td>\n",
       "      <td>NaN</td>\n",
       "      <td>NaN</td>\n",
       "    </tr>\n",
       "  </tbody>\n",
       "</table>\n",
       "</div>"
      ],
      "text/plain": [
       "   app_id  fico apr_test_group   apr  converted to sale  vehicle margin  \\\n",
       "0       1   700        control  4.0%              False             NaN   \n",
       "1       2   700           test  3.0%              False             NaN   \n",
       "2       3   700           test  3.0%              False             NaN   \n",
       "3       4   700        control  4.0%              False             NaN   \n",
       "4       5   700        control  4.0%               True          1000.0   \n",
       "\n",
       "   finance margin  Unnamed: 7  Unnamed: 8  Unnamed: 9  Unnamed: 10  \n",
       "0             NaN         NaN         NaN         NaN          NaN  \n",
       "1             NaN         NaN         NaN         NaN          NaN  \n",
       "2             NaN         NaN         NaN         NaN          NaN  \n",
       "3             NaN         NaN         NaN         NaN          NaN  \n",
       "4           600.0         NaN         NaN         NaN          NaN  "
      ]
     },
     "execution_count": 4,
     "metadata": {},
     "output_type": "execute_result"
    }
   ],
   "source": [
    "df.head()"
   ]
  },
  {
   "cell_type": "code",
   "execution_count": 5,
   "metadata": {},
   "outputs": [
    {
     "data": {
      "text/html": [
       "<div>\n",
       "<style scoped>\n",
       "    .dataframe tbody tr th:only-of-type {\n",
       "        vertical-align: middle;\n",
       "    }\n",
       "\n",
       "    .dataframe tbody tr th {\n",
       "        vertical-align: top;\n",
       "    }\n",
       "\n",
       "    .dataframe thead th {\n",
       "        text-align: right;\n",
       "    }\n",
       "</style>\n",
       "<table border=\"1\" class=\"dataframe\">\n",
       "  <thead>\n",
       "    <tr style=\"text-align: right;\">\n",
       "      <th></th>\n",
       "      <th>app_id</th>\n",
       "      <th>fico</th>\n",
       "      <th>vehicle margin</th>\n",
       "      <th>finance margin</th>\n",
       "      <th>Unnamed: 7</th>\n",
       "      <th>Unnamed: 8</th>\n",
       "      <th>Unnamed: 9</th>\n",
       "      <th>Unnamed: 10</th>\n",
       "    </tr>\n",
       "  </thead>\n",
       "  <tbody>\n",
       "    <tr>\n",
       "      <th>count</th>\n",
       "      <td>20000.000000</td>\n",
       "      <td>20000.00000</td>\n",
       "      <td>5021.0</td>\n",
       "      <td>5021.000000</td>\n",
       "      <td>0.0</td>\n",
       "      <td>0.0</td>\n",
       "      <td>0.0</td>\n",
       "      <td>0.0</td>\n",
       "    </tr>\n",
       "    <tr>\n",
       "      <th>mean</th>\n",
       "      <td>10000.500000</td>\n",
       "      <td>649.99500</td>\n",
       "      <td>1000.0</td>\n",
       "      <td>488.777136</td>\n",
       "      <td>NaN</td>\n",
       "      <td>NaN</td>\n",
       "      <td>NaN</td>\n",
       "      <td>NaN</td>\n",
       "    </tr>\n",
       "    <tr>\n",
       "      <th>std</th>\n",
       "      <td>5773.647028</td>\n",
       "      <td>50.00125</td>\n",
       "      <td>0.0</td>\n",
       "      <td>127.370035</td>\n",
       "      <td>NaN</td>\n",
       "      <td>NaN</td>\n",
       "      <td>NaN</td>\n",
       "      <td>NaN</td>\n",
       "    </tr>\n",
       "    <tr>\n",
       "      <th>min</th>\n",
       "      <td>1.000000</td>\n",
       "      <td>600.00000</td>\n",
       "      <td>1000.0</td>\n",
       "      <td>350.000000</td>\n",
       "      <td>NaN</td>\n",
       "      <td>NaN</td>\n",
       "      <td>NaN</td>\n",
       "      <td>NaN</td>\n",
       "    </tr>\n",
       "    <tr>\n",
       "      <th>25%</th>\n",
       "      <td>5000.750000</td>\n",
       "      <td>600.00000</td>\n",
       "      <td>1000.0</td>\n",
       "      <td>350.000000</td>\n",
       "      <td>NaN</td>\n",
       "      <td>NaN</td>\n",
       "      <td>NaN</td>\n",
       "      <td>NaN</td>\n",
       "    </tr>\n",
       "    <tr>\n",
       "      <th>50%</th>\n",
       "      <td>10000.500000</td>\n",
       "      <td>600.00000</td>\n",
       "      <td>1000.0</td>\n",
       "      <td>400.000000</td>\n",
       "      <td>NaN</td>\n",
       "      <td>NaN</td>\n",
       "      <td>NaN</td>\n",
       "      <td>NaN</td>\n",
       "    </tr>\n",
       "    <tr>\n",
       "      <th>75%</th>\n",
       "      <td>15000.250000</td>\n",
       "      <td>700.00000</td>\n",
       "      <td>1000.0</td>\n",
       "      <td>600.000000</td>\n",
       "      <td>NaN</td>\n",
       "      <td>NaN</td>\n",
       "      <td>NaN</td>\n",
       "      <td>NaN</td>\n",
       "    </tr>\n",
       "    <tr>\n",
       "      <th>max</th>\n",
       "      <td>20000.000000</td>\n",
       "      <td>700.00000</td>\n",
       "      <td>1000.0</td>\n",
       "      <td>650.000000</td>\n",
       "      <td>NaN</td>\n",
       "      <td>NaN</td>\n",
       "      <td>NaN</td>\n",
       "      <td>NaN</td>\n",
       "    </tr>\n",
       "  </tbody>\n",
       "</table>\n",
       "</div>"
      ],
      "text/plain": [
       "             app_id         fico  vehicle margin  finance margin  Unnamed: 7  \\\n",
       "count  20000.000000  20000.00000          5021.0     5021.000000         0.0   \n",
       "mean   10000.500000    649.99500          1000.0      488.777136         NaN   \n",
       "std     5773.647028     50.00125             0.0      127.370035         NaN   \n",
       "min        1.000000    600.00000          1000.0      350.000000         NaN   \n",
       "25%     5000.750000    600.00000          1000.0      350.000000         NaN   \n",
       "50%    10000.500000    600.00000          1000.0      400.000000         NaN   \n",
       "75%    15000.250000    700.00000          1000.0      600.000000         NaN   \n",
       "max    20000.000000    700.00000          1000.0      650.000000         NaN   \n",
       "\n",
       "       Unnamed: 8  Unnamed: 9  Unnamed: 10  \n",
       "count         0.0         0.0          0.0  \n",
       "mean          NaN         NaN          NaN  \n",
       "std           NaN         NaN          NaN  \n",
       "min           NaN         NaN          NaN  \n",
       "25%           NaN         NaN          NaN  \n",
       "50%           NaN         NaN          NaN  \n",
       "75%           NaN         NaN          NaN  \n",
       "max           NaN         NaN          NaN  "
      ]
     },
     "execution_count": 5,
     "metadata": {},
     "output_type": "execute_result"
    }
   ],
   "source": [
    "df.describe()"
   ]
  },
  {
   "cell_type": "code",
   "execution_count": 6,
   "metadata": {},
   "outputs": [
    {
     "name": "stdout",
     "output_type": "stream",
     "text": [
      "<class 'pandas.core.frame.DataFrame'>\n",
      "RangeIndex: 20000 entries, 0 to 19999\n",
      "Data columns (total 11 columns):\n",
      "app_id               20000 non-null int64\n",
      "fico                 20000 non-null int64\n",
      "apr_test_group       20000 non-null object\n",
      "apr                  20000 non-null object\n",
      "converted to sale    20000 non-null bool\n",
      "vehicle margin       5021 non-null float64\n",
      "finance margin       5021 non-null float64\n",
      "Unnamed: 7           0 non-null float64\n",
      "Unnamed: 8           0 non-null float64\n",
      "Unnamed: 9           0 non-null float64\n",
      "Unnamed: 10          0 non-null float64\n",
      "dtypes: bool(1), float64(6), int64(2), object(2)\n",
      "memory usage: 1.5+ MB\n"
     ]
    }
   ],
   "source": [
    "df.info()"
   ]
  },
  {
   "cell_type": "markdown",
   "metadata": {},
   "source": [
    "# Data Cleaning"
   ]
  },
  {
   "cell_type": "code",
   "execution_count": 7,
   "metadata": {
    "collapsed": true
   },
   "outputs": [],
   "source": [
    "df_clean = df.copy()"
   ]
  },
  {
   "cell_type": "markdown",
   "metadata": {},
   "source": [
    "## Drop Unnamed Columns"
   ]
  },
  {
   "cell_type": "code",
   "execution_count": 8,
   "metadata": {
    "collapsed": true
   },
   "outputs": [],
   "source": [
    "df_drop = df.copy()"
   ]
  },
  {
   "cell_type": "code",
   "execution_count": 9,
   "metadata": {
    "collapsed": true
   },
   "outputs": [],
   "source": [
    "df_drop = df_drop.loc[:, ~df_drop.columns.str.contains('^Unnamed')]"
   ]
  },
  {
   "cell_type": "code",
   "execution_count": 10,
   "metadata": {},
   "outputs": [
    {
     "data": {
      "text/html": [
       "<div>\n",
       "<style scoped>\n",
       "    .dataframe tbody tr th:only-of-type {\n",
       "        vertical-align: middle;\n",
       "    }\n",
       "\n",
       "    .dataframe tbody tr th {\n",
       "        vertical-align: top;\n",
       "    }\n",
       "\n",
       "    .dataframe thead th {\n",
       "        text-align: right;\n",
       "    }\n",
       "</style>\n",
       "<table border=\"1\" class=\"dataframe\">\n",
       "  <thead>\n",
       "    <tr style=\"text-align: right;\">\n",
       "      <th></th>\n",
       "      <th>app_id</th>\n",
       "      <th>fico</th>\n",
       "      <th>apr_test_group</th>\n",
       "      <th>apr</th>\n",
       "      <th>converted to sale</th>\n",
       "      <th>vehicle margin</th>\n",
       "      <th>finance margin</th>\n",
       "    </tr>\n",
       "  </thead>\n",
       "  <tbody>\n",
       "    <tr>\n",
       "      <th>0</th>\n",
       "      <td>1</td>\n",
       "      <td>700</td>\n",
       "      <td>control</td>\n",
       "      <td>4.0%</td>\n",
       "      <td>False</td>\n",
       "      <td>NaN</td>\n",
       "      <td>NaN</td>\n",
       "    </tr>\n",
       "    <tr>\n",
       "      <th>1</th>\n",
       "      <td>2</td>\n",
       "      <td>700</td>\n",
       "      <td>test</td>\n",
       "      <td>3.0%</td>\n",
       "      <td>False</td>\n",
       "      <td>NaN</td>\n",
       "      <td>NaN</td>\n",
       "    </tr>\n",
       "    <tr>\n",
       "      <th>2</th>\n",
       "      <td>3</td>\n",
       "      <td>700</td>\n",
       "      <td>test</td>\n",
       "      <td>3.0%</td>\n",
       "      <td>False</td>\n",
       "      <td>NaN</td>\n",
       "      <td>NaN</td>\n",
       "    </tr>\n",
       "    <tr>\n",
       "      <th>3</th>\n",
       "      <td>4</td>\n",
       "      <td>700</td>\n",
       "      <td>control</td>\n",
       "      <td>4.0%</td>\n",
       "      <td>False</td>\n",
       "      <td>NaN</td>\n",
       "      <td>NaN</td>\n",
       "    </tr>\n",
       "    <tr>\n",
       "      <th>4</th>\n",
       "      <td>5</td>\n",
       "      <td>700</td>\n",
       "      <td>control</td>\n",
       "      <td>4.0%</td>\n",
       "      <td>True</td>\n",
       "      <td>1000.0</td>\n",
       "      <td>600.0</td>\n",
       "    </tr>\n",
       "  </tbody>\n",
       "</table>\n",
       "</div>"
      ],
      "text/plain": [
       "   app_id  fico apr_test_group   apr  converted to sale  vehicle margin  \\\n",
       "0       1   700        control  4.0%              False             NaN   \n",
       "1       2   700           test  3.0%              False             NaN   \n",
       "2       3   700           test  3.0%              False             NaN   \n",
       "3       4   700        control  4.0%              False             NaN   \n",
       "4       5   700        control  4.0%               True          1000.0   \n",
       "\n",
       "   finance margin  \n",
       "0             NaN  \n",
       "1             NaN  \n",
       "2             NaN  \n",
       "3             NaN  \n",
       "4           600.0  "
      ]
     },
     "execution_count": 10,
     "metadata": {},
     "output_type": "execute_result"
    }
   ],
   "source": [
    "df_clean = df_drop.copy()\n",
    "df_clean.head()"
   ]
  },
  {
   "cell_type": "markdown",
   "metadata": {},
   "source": [
    "## Missing Data Points"
   ]
  },
  {
   "cell_type": "code",
   "execution_count": 11,
   "metadata": {
    "collapsed": true
   },
   "outputs": [],
   "source": [
    "df_missing = df_clean.copy()"
   ]
  },
  {
   "cell_type": "markdown",
   "metadata": {},
   "source": [
    "### Counts"
   ]
  },
  {
   "cell_type": "code",
   "execution_count": 12,
   "metadata": {},
   "outputs": [
    {
     "name": "stdout",
     "output_type": "stream",
     "text": [
      "app_id                   0\n",
      "fico                     0\n",
      "apr_test_group           0\n",
      "apr                      0\n",
      "converted to sale        0\n",
      "vehicle margin       14979\n",
      "finance margin       14979\n",
      "dtype: int64\n"
     ]
    }
   ],
   "source": [
    "missing_count = df_missing.isnull().sum()\n",
    "print (missing_count)"
   ]
  },
  {
   "cell_type": "markdown",
   "metadata": {},
   "source": [
    "### Percent Missing"
   ]
  },
  {
   "cell_type": "code",
   "execution_count": 13,
   "metadata": {},
   "outputs": [
    {
     "data": {
      "text/plain": [
       "21.39857142857143"
      ]
     },
     "execution_count": 13,
     "metadata": {},
     "output_type": "execute_result"
    }
   ],
   "source": [
    "total_cells = np.product(df_missing.shape)\n",
    "total_missing = missing_count.sum()\n",
    "(total_missing/total_cells) * 100"
   ]
  },
  {
   "cell_type": "markdown",
   "metadata": {},
   "source": [
    "### Replace NaNs"
   ]
  },
  {
   "cell_type": "code",
   "execution_count": 14,
   "metadata": {
    "collapsed": true
   },
   "outputs": [],
   "source": [
    "df_missing = df_missing.fillna(0)"
   ]
  },
  {
   "cell_type": "code",
   "execution_count": 15,
   "metadata": {},
   "outputs": [
    {
     "data": {
      "text/html": [
       "<div>\n",
       "<style scoped>\n",
       "    .dataframe tbody tr th:only-of-type {\n",
       "        vertical-align: middle;\n",
       "    }\n",
       "\n",
       "    .dataframe tbody tr th {\n",
       "        vertical-align: top;\n",
       "    }\n",
       "\n",
       "    .dataframe thead th {\n",
       "        text-align: right;\n",
       "    }\n",
       "</style>\n",
       "<table border=\"1\" class=\"dataframe\">\n",
       "  <thead>\n",
       "    <tr style=\"text-align: right;\">\n",
       "      <th></th>\n",
       "      <th>app_id</th>\n",
       "      <th>fico</th>\n",
       "      <th>apr_test_group</th>\n",
       "      <th>apr</th>\n",
       "      <th>converted to sale</th>\n",
       "      <th>vehicle margin</th>\n",
       "      <th>finance margin</th>\n",
       "    </tr>\n",
       "  </thead>\n",
       "  <tbody>\n",
       "    <tr>\n",
       "      <th>0</th>\n",
       "      <td>1</td>\n",
       "      <td>700</td>\n",
       "      <td>control</td>\n",
       "      <td>4.0%</td>\n",
       "      <td>False</td>\n",
       "      <td>0.0</td>\n",
       "      <td>0.0</td>\n",
       "    </tr>\n",
       "    <tr>\n",
       "      <th>1</th>\n",
       "      <td>2</td>\n",
       "      <td>700</td>\n",
       "      <td>test</td>\n",
       "      <td>3.0%</td>\n",
       "      <td>False</td>\n",
       "      <td>0.0</td>\n",
       "      <td>0.0</td>\n",
       "    </tr>\n",
       "    <tr>\n",
       "      <th>2</th>\n",
       "      <td>3</td>\n",
       "      <td>700</td>\n",
       "      <td>test</td>\n",
       "      <td>3.0%</td>\n",
       "      <td>False</td>\n",
       "      <td>0.0</td>\n",
       "      <td>0.0</td>\n",
       "    </tr>\n",
       "    <tr>\n",
       "      <th>3</th>\n",
       "      <td>4</td>\n",
       "      <td>700</td>\n",
       "      <td>control</td>\n",
       "      <td>4.0%</td>\n",
       "      <td>False</td>\n",
       "      <td>0.0</td>\n",
       "      <td>0.0</td>\n",
       "    </tr>\n",
       "    <tr>\n",
       "      <th>4</th>\n",
       "      <td>5</td>\n",
       "      <td>700</td>\n",
       "      <td>control</td>\n",
       "      <td>4.0%</td>\n",
       "      <td>True</td>\n",
       "      <td>1000.0</td>\n",
       "      <td>600.0</td>\n",
       "    </tr>\n",
       "  </tbody>\n",
       "</table>\n",
       "</div>"
      ],
      "text/plain": [
       "   app_id  fico apr_test_group   apr  converted to sale  vehicle margin  \\\n",
       "0       1   700        control  4.0%              False             0.0   \n",
       "1       2   700           test  3.0%              False             0.0   \n",
       "2       3   700           test  3.0%              False             0.0   \n",
       "3       4   700        control  4.0%              False             0.0   \n",
       "4       5   700        control  4.0%               True          1000.0   \n",
       "\n",
       "   finance margin  \n",
       "0             0.0  \n",
       "1             0.0  \n",
       "2             0.0  \n",
       "3             0.0  \n",
       "4           600.0  "
      ]
     },
     "execution_count": 15,
     "metadata": {},
     "output_type": "execute_result"
    }
   ],
   "source": [
    "df_clean = df_missing.copy()\n",
    "df_clean.head()"
   ]
  },
  {
   "cell_type": "markdown",
   "metadata": {},
   "source": [
    "## APR to Float"
   ]
  },
  {
   "cell_type": "code",
   "execution_count": 16,
   "metadata": {
    "collapsed": true
   },
   "outputs": [],
   "source": [
    "df_apr = df_clean.copy()"
   ]
  },
  {
   "cell_type": "code",
   "execution_count": 17,
   "metadata": {
    "collapsed": true
   },
   "outputs": [],
   "source": [
    "df_apr['apr'] = df_apr['apr'].str.replace('%','').astype(float)"
   ]
  },
  {
   "cell_type": "code",
   "execution_count": 18,
   "metadata": {},
   "outputs": [
    {
     "data": {
      "text/html": [
       "<div>\n",
       "<style scoped>\n",
       "    .dataframe tbody tr th:only-of-type {\n",
       "        vertical-align: middle;\n",
       "    }\n",
       "\n",
       "    .dataframe tbody tr th {\n",
       "        vertical-align: top;\n",
       "    }\n",
       "\n",
       "    .dataframe thead th {\n",
       "        text-align: right;\n",
       "    }\n",
       "</style>\n",
       "<table border=\"1\" class=\"dataframe\">\n",
       "  <thead>\n",
       "    <tr style=\"text-align: right;\">\n",
       "      <th></th>\n",
       "      <th>app_id</th>\n",
       "      <th>fico</th>\n",
       "      <th>apr_test_group</th>\n",
       "      <th>apr</th>\n",
       "      <th>converted to sale</th>\n",
       "      <th>vehicle margin</th>\n",
       "      <th>finance margin</th>\n",
       "    </tr>\n",
       "  </thead>\n",
       "  <tbody>\n",
       "    <tr>\n",
       "      <th>0</th>\n",
       "      <td>1</td>\n",
       "      <td>700</td>\n",
       "      <td>control</td>\n",
       "      <td>4.0</td>\n",
       "      <td>False</td>\n",
       "      <td>0.0</td>\n",
       "      <td>0.0</td>\n",
       "    </tr>\n",
       "    <tr>\n",
       "      <th>1</th>\n",
       "      <td>2</td>\n",
       "      <td>700</td>\n",
       "      <td>test</td>\n",
       "      <td>3.0</td>\n",
       "      <td>False</td>\n",
       "      <td>0.0</td>\n",
       "      <td>0.0</td>\n",
       "    </tr>\n",
       "    <tr>\n",
       "      <th>2</th>\n",
       "      <td>3</td>\n",
       "      <td>700</td>\n",
       "      <td>test</td>\n",
       "      <td>3.0</td>\n",
       "      <td>False</td>\n",
       "      <td>0.0</td>\n",
       "      <td>0.0</td>\n",
       "    </tr>\n",
       "    <tr>\n",
       "      <th>3</th>\n",
       "      <td>4</td>\n",
       "      <td>700</td>\n",
       "      <td>control</td>\n",
       "      <td>4.0</td>\n",
       "      <td>False</td>\n",
       "      <td>0.0</td>\n",
       "      <td>0.0</td>\n",
       "    </tr>\n",
       "    <tr>\n",
       "      <th>4</th>\n",
       "      <td>5</td>\n",
       "      <td>700</td>\n",
       "      <td>control</td>\n",
       "      <td>4.0</td>\n",
       "      <td>True</td>\n",
       "      <td>1000.0</td>\n",
       "      <td>600.0</td>\n",
       "    </tr>\n",
       "  </tbody>\n",
       "</table>\n",
       "</div>"
      ],
      "text/plain": [
       "   app_id  fico apr_test_group  apr  converted to sale  vehicle margin  \\\n",
       "0       1   700        control  4.0              False             0.0   \n",
       "1       2   700           test  3.0              False             0.0   \n",
       "2       3   700           test  3.0              False             0.0   \n",
       "3       4   700        control  4.0              False             0.0   \n",
       "4       5   700        control  4.0               True          1000.0   \n",
       "\n",
       "   finance margin  \n",
       "0             0.0  \n",
       "1             0.0  \n",
       "2             0.0  \n",
       "3             0.0  \n",
       "4           600.0  "
      ]
     },
     "execution_count": 18,
     "metadata": {},
     "output_type": "execute_result"
    }
   ],
   "source": [
    "df_clean = df_apr.copy()\n",
    "df_clean.head()"
   ]
  },
  {
   "cell_type": "markdown",
   "metadata": {},
   "source": [
    "# Question Answers and Analysis"
   ]
  },
  {
   "cell_type": "code",
   "execution_count": 19,
   "metadata": {
    "collapsed": true
   },
   "outputs": [],
   "source": [
    "df_analysis = df_clean.copy()"
   ]
  },
  {
   "cell_type": "markdown",
   "metadata": {},
   "source": [
    "## Q1A: What’s the current APR pricing strategy for the different FICO buckets?\n",
    "A better FICO score means a lower APR.\n",
    "\n",
    "An APR of 3.0 or 4.0 are used for applications with a FICO score of 700 with slightly more applications having a APR of 3.0. Applications with a 700 FICO score have no APRs of 4.4 or 5.4. \n",
    "\n",
    "An APR of 4.4 or 5.4 are used for applications with a FICO score of 600 with slightly more applications having a APR of 5.4. Applications with a 600 FICO score have no APRs of 3.0 or 4.0."
   ]
  },
  {
   "cell_type": "code",
   "execution_count": 20,
   "metadata": {},
   "outputs": [
    {
     "data": {
      "image/png": "[encoded data removed]",
      "text/plain": [
       "<matplotlib.figure.Figure at 0x11cf3fc18>"
      ]
     },
     "metadata": {},
     "output_type": "display_data"
    }
   ],
   "source": [
    "f600_apr30 = len(df_analysis[(df_analysis['apr']==3.0) & (df_analysis['fico']==600)].index)\n",
    "f600_apr40 = len(df_analysis[(df_analysis['apr']==4.0) & (df_analysis['fico']==600)].index)\n",
    "f600_apr44 = len(df_analysis[(df_analysis['apr']==4.4) & (df_analysis['fico']==600)].index)\n",
    "f600_apr54 = len(df_analysis[(df_analysis['apr']==5.4) & (df_analysis['fico']==600)].index)\n",
    "\n",
    "f700_apr30 = len(df_analysis[(df_analysis['apr']==3.0) & (df_analysis['fico']==700)].index)\n",
    "f700_apr40 = len(df_analysis[(df_analysis['apr']==4.0) & (df_analysis['fico']==700)].index)\n",
    "f700_apr44 = len(df_analysis[(df_analysis['apr']==4.4) & (df_analysis['fico']==700)].index)\n",
    "f700_apr54 = len(df_analysis[(df_analysis['apr']==5.4) & (df_analysis['fico']==700)].index)\n",
    " \n",
    "# set width of bar\n",
    "barWidth = 0.20\n",
    " \n",
    "# set height of bar\n",
    "bars1 = [f600_apr30, f700_apr30]\n",
    "bars2 = [f600_apr40, f700_apr40]\n",
    "bars3 = [f600_apr44, f700_apr44]\n",
    "bars4 = [f600_apr54, f700_apr54]\n",
    "\n",
    "# Set position of bar on X axis\n",
    "r1 = np.arange(len(bars1))\n",
    "r2 = [x + barWidth for x in r1]\n",
    "r3 = [x + barWidth for x in r2]\n",
    "r4 = [x + barWidth for x in r3]\n",
    "\n",
    "# Make the plot\n",
    "plt.bar(r1, bars1, width=barWidth, label='3.0')\n",
    "plt.bar(r2, bars2, width=barWidth, label='4.0')\n",
    "plt.bar(r3, bars3, width=barWidth, label='4.4')\n",
    "plt.bar(r4, bars4, width=barWidth, label='5.4')\n",
    "  \n",
    "\n",
    "plt.title('APR per FICO Bucket')\n",
    "plt.ylabel('Applications', fontweight='bold')\n",
    "plt.xlabel('FICO Scores', fontweight='bold')\n",
    "plt.xticks([r + barWidth for r in range(len(bars1))], ['600', '700'])\n",
    " \n",
    "# Create legend & Show graphic\n",
    "plt.legend(title='APR')\n",
    "plt.show()\n"
   ]
  },
  {
   "cell_type": "markdown",
   "metadata": {},
   "source": [
    "## Q1B: How is the randomized test structured? \n",
    "\n",
    "40k applications have been divided evenly into a control group and test group."
   ]
  },
  {
   "cell_type": "code",
   "execution_count": 21,
   "metadata": {},
   "outputs": [
    {
     "data": {
      "image/png": "[encoded data removed]",
      "text/plain": [
       "<matplotlib.figure.Figure at 0x11cf42d30>"
      ]
     },
     "metadata": {},
     "output_type": "display_data"
    }
   ],
   "source": [
    "test = len((df_analysis['apr_test_group']=='test').index)\n",
    "ctrl = len((df_analysis['apr_test_group']=='control').index)\n",
    "\n",
    "plt.bar(['Test', 'Control'], [test,ctrl], color='navy' )\n",
    "plt.title('Test Structure')\n",
    "plt.ylabel('Applications', fontweight='bold')\n",
    "plt.xlabel('Groups', fontweight='bold')\n",
    "plt.show()"
   ]
  },
  {
   "cell_type": "markdown",
   "metadata": {},
   "source": [
    "## Q1C: How do APR's vary by test group?\n",
    "The test group is has APRs of 3.0 and 4.4 where the control group has APRs of 4.0 and 5.4."
   ]
  },
  {
   "cell_type": "code",
   "execution_count": 22,
   "metadata": {},
   "outputs": [
    {
     "data": {
      "image/png": "[encoded data removed]",
      "text/plain": [
       "<matplotlib.figure.Figure at 0x11d53e5f8>"
      ]
     },
     "metadata": {},
     "output_type": "display_data"
    }
   ],
   "source": [
    "test_apr30 = len(df_analysis[(df_analysis['apr']==3.0) & (df_analysis['apr_test_group']=='test')].index)\n",
    "test_apr40 = len(df_analysis[(df_analysis['apr']==4.0) & (df_analysis['apr_test_group']=='test')].index)\n",
    "test_apr44 = len(df_analysis[(df_analysis['apr']==4.4) & (df_analysis['apr_test_group']=='test')].index)\n",
    "test_apr54 = len(df_analysis[(df_analysis['apr']==5.4) & (df_analysis['apr_test_group']=='test')].index)\n",
    "\n",
    "ctrl_apr30 = len(df_analysis[(df_analysis['apr']==3.0) & (df_analysis['apr_test_group']=='control')].index)\n",
    "ctrl_apr40 = len(df_analysis[(df_analysis['apr']==4.0) & (df_analysis['apr_test_group']=='control')].index)\n",
    "ctrl_apr44 = len(df_analysis[(df_analysis['apr']==4.4) & (df_analysis['apr_test_group']=='control')].index)\n",
    "ctrl_apr54 = len(df_analysis[(df_analysis['apr']==5.4) & (df_analysis['apr_test_group']=='control')].index)\n",
    "\n",
    "# set width of bar\n",
    "barWidth = 0.20\n",
    " \n",
    "# set height of bar\n",
    "bars1 = [test_apr30, ctrl_apr30]\n",
    "bars2 = [test_apr40, ctrl_apr40]\n",
    "bars3 = [test_apr44, ctrl_apr44]\n",
    "bars4 = [test_apr54, ctrl_apr54]\n",
    "\n",
    "# Set position of bar on X axis\n",
    "r1 = np.arange(len(bars1))\n",
    "r2 = [x + barWidth for x in r1]\n",
    "r3 = [x + barWidth for x in r2]\n",
    "r4 = [x + barWidth for x in r3]\n",
    "\n",
    "# Make the plot\n",
    "plt.bar(r1, bars1, width=barWidth, label='3.0')\n",
    "plt.bar(r2, bars2, width=barWidth, label='4.0')\n",
    "plt.bar(r3, bars3, width=barWidth, label='4.4')\n",
    "plt.bar(r4, bars4, width=barWidth, label='5.4')\n",
    "  \n",
    "\n",
    "plt.title('APR per Test Group')\n",
    "plt.ylabel('Applications', fontweight='bold')\n",
    "plt.xlabel('Group', fontweight='bold')\n",
    "plt.xticks([r + barWidth for r in range(len(bars1))], ['Test', 'Control'])\n",
    " \n",
    "# Create legend & Show graphic\n",
    "plt.legend(title='APR')\n",
    "plt.show()\n"
   ]
  },
  {
   "cell_type": "markdown",
   "metadata": {},
   "source": [
    "## Q2A: How many applications is Carvana able to convert to a sale? \n",
    "\n",
    "20k (50%) of applications are converted to a sale."
   ]
  },
  {
   "cell_type": "code",
   "execution_count": 23,
   "metadata": {},
   "outputs": [
    {
     "data": {
      "image/png": "[encoded data removed]",
      "text/plain": [
       "<matplotlib.figure.Figure at 0x11d56f2b0>"
      ]
     },
     "metadata": {},
     "output_type": "display_data"
    }
   ],
   "source": [
    "sold = len((df_analysis['converted to sale']==True).index)\n",
    "no_sale = len((df_analysis['converted to sale']==False).index)\n",
    "\n",
    "plt.bar(['Sold', 'Not Sold'], [sold,no_sale], color='green' )\n",
    "plt.title('Sales')\n",
    "plt.ylabel('Applications', fontweight='bold')\n",
    "plt.xlabel('Conversion', fontweight='bold')\n",
    "plt.show()"
   ]
  },
  {
   "cell_type": "markdown",
   "metadata": {},
   "source": [
    "## Q2B: How does that vary by FICO?\n",
    "\n",
    "589 more applications with a FICO score of 700 are sold than applications with a FICO score of 600. "
   ]
  },
  {
   "cell_type": "code",
   "execution_count": 24,
   "metadata": {},
   "outputs": [
    {
     "data": {
      "image/png": "[encoded data removed]",
      "text/plain": [
       "<matplotlib.figure.Figure at 0x11f8ffa20>"
      ]
     },
     "metadata": {},
     "output_type": "display_data"
    }
   ],
   "source": [
    "\n",
    "sale_fico600 = len(df_analysis[(df_analysis['fico']==600) & (df_analysis['converted to sale']==True)].index)\n",
    "sale_fico700 = len(df_analysis[(df_analysis['fico']==700) & (df_analysis['converted to sale']==True)].index)\n",
    "no_sale_fico600 = len(df_analysis[(df_analysis['fico']==600) & (df_analysis['converted to sale']==False)].index)\n",
    "no_sale_fico700 = len(df_analysis[(df_analysis['fico']==700) & (df_analysis['converted to sale']==False)].index)\n",
    "\n",
    "\n",
    "# set width of bar\n",
    "barWidth = 0.20\n",
    " \n",
    "# set height of bar\n",
    "bars1 = [sale_fico600, no_sale_fico600]\n",
    "bars2 = [sale_fico700, no_sale_fico700]\n",
    "\n",
    "\n",
    "# Set position of bar on X axis\n",
    "r1 = np.arange(len(bars1))\n",
    "r2 = [x + barWidth for x in r1]\n",
    "\n",
    "# Make the plot\n",
    "plt.bar(r1, bars1, width=barWidth, label='600')\n",
    "plt.bar(r2, bars2, width=barWidth, label='700')  \n",
    "\n",
    "plt.title('FICO Scores per Test Group')\n",
    "plt.ylabel('Applications', fontweight='bold')\n",
    "plt.xlabel('Groups', fontweight='bold')\n",
    "plt.xticks([r + barWidth for r in range(len(bars1))], ['Sold', 'Not Sold'])\n",
    " \n",
    "# Create legend & Show graphic\n",
    "plt.legend(title='FICO Scores')\n",
    "plt.show()"
   ]
  },
  {
   "cell_type": "markdown",
   "metadata": {},
   "source": [
    "## Q2C: Using the APR test group data, how does the APR affect conversion?\n",
    "\n",
    "For the test group, the majority of applicatons with 3.0 and 4.4 APR did not result in a sale (2677 sold vs 7302 not sold).\n",
    "\n",
    "333 more sales were made with an APR of 3.0 than 4.4 (1505 vs 1172)."
   ]
  },
  {
   "cell_type": "code",
   "execution_count": 25,
   "metadata": {},
   "outputs": [
    {
     "data": {
      "image/png": "[encoded data removed]",
      "text/plain": [
       "<matplotlib.figure.Figure at 0x11d632ac8>"
      ]
     },
     "metadata": {},
     "output_type": "display_data"
    }
   ],
   "source": [
    "\n",
    "test_sold_apr30 = len(df_analysis[(df_analysis['apr']==3.0) \n",
    "                    &(df_analysis['apr_test_group']=='test')\n",
    "                    &(df_analysis['converted to sale']==True)].index)\n",
    "test_sold_apr40 = len(df_analysis[(df_analysis['apr']==4.0) \n",
    "                    &(df_analysis['apr_test_group']=='test')\n",
    "                    &(df_analysis['converted to sale']==True)].index)\n",
    "test_sold_apr44 = len(df_analysis[(df_analysis['apr']==4.4) \n",
    "                    &(df_analysis['apr_test_group']=='test')\n",
    "                    &(df_analysis['converted to sale']==True)].index)\n",
    "test_sold_apr54 = len(df_analysis[(df_analysis['apr']==5.4)\n",
    "                    & (df_analysis['apr_test_group']=='test')\n",
    "                    &(df_analysis['converted to sale']==True)].index)\n",
    "test_nosale_apr30 = len(df_analysis[(df_analysis['apr']==3.0) \n",
    "                    &(df_analysis['apr_test_group']=='test')\n",
    "                    &(df_analysis['converted to sale']==False)].index)\n",
    "test_nosale_apr40 = len(df_analysis[(df_analysis['apr']==4.0) \n",
    "                    &(df_analysis['apr_test_group']=='test')\n",
    "                    &(df_analysis['converted to sale']==False)].index)\n",
    "test_nosale_apr44 = len(df_analysis[(df_analysis['apr']==4.4) \n",
    "                    &(df_analysis['apr_test_group']=='test')\n",
    "                    &(df_analysis['converted to sale']==False)].index)\n",
    "test_nosale_apr54 = len(df_analysis[(df_analysis['apr']==5.4)\n",
    "                    & (df_analysis['apr_test_group']=='test')\n",
    "                    &(df_analysis['converted to sale']==False)].index)\n",
    "\n",
    "# set width of bar\n",
    "barWidth = 0.20\n",
    " \n",
    "# set height of bar\n",
    "bars1 = [test_sold_apr30, test_nosale_apr30]\n",
    "bars2 = [test_sold_apr40, test_nosale_apr40]\n",
    "bars3 = [test_sold_apr44, test_nosale_apr44]\n",
    "bars4 = [test_sold_apr54, test_nosale_apr54]\n",
    "\n",
    "# Set position of bar on X axis\n",
    "r1 = np.arange(len(bars1))\n",
    "r2 = [x + barWidth for x in r1]\n",
    "r3 = [x + barWidth for x in r2]\n",
    "r4 = [x + barWidth for x in r3]\n",
    "\n",
    "# Make the plot\n",
    "plt.bar(r1, bars1, width=barWidth, label='3.0')\n",
    "plt.bar(r2, bars2, width=barWidth, label='4.0')\n",
    "plt.bar(r3, bars3, width=barWidth, label='4.4')\n",
    "plt.bar(r4, bars4, width=barWidth, label='5.4')\n",
    "  \n",
    "\n",
    "plt.title('APR per Sale for Test Group')\n",
    "plt.ylabel('Applications', fontweight='bold')\n",
    "plt.xlabel('Conversion', fontweight='bold')\n",
    "plt.xticks([r + barWidth for r in range(len(bars1))], ['Sold', 'Not Sold'])\n",
    " \n",
    "# Create legend & Show graphic\n",
    "plt.legend(title='APR')\n",
    "plt.show()\n"
   ]
  },
  {
   "cell_type": "markdown",
   "metadata": {},
   "source": [
    "## Q3A: What does Carvana make in margin overall, per sale and per application?"
   ]
  },
  {
   "cell_type": "markdown",
   "metadata": {},
   "source": [
    "Overall: $7,475,150.00\n",
    "\n",
    "Per Sale: $1,488.77\n",
    "\n",
    "Per Application: $373.75"
   ]
  },
  {
   "cell_type": "code",
   "execution_count": 26,
   "metadata": {},
   "outputs": [
    {
     "data": {
      "text/html": [
       "<div>\n",
       "<style scoped>\n",
       "    .dataframe tbody tr th:only-of-type {\n",
       "        vertical-align: middle;\n",
       "    }\n",
       "\n",
       "    .dataframe tbody tr th {\n",
       "        vertical-align: top;\n",
       "    }\n",
       "\n",
       "    .dataframe thead th {\n",
       "        text-align: right;\n",
       "    }\n",
       "</style>\n",
       "<table border=\"1\" class=\"dataframe\">\n",
       "  <thead>\n",
       "    <tr style=\"text-align: right;\">\n",
       "      <th></th>\n",
       "      <th>app_id</th>\n",
       "      <th>fico</th>\n",
       "      <th>apr_test_group</th>\n",
       "      <th>apr</th>\n",
       "      <th>converted to sale</th>\n",
       "      <th>vehicle margin</th>\n",
       "      <th>finance margin</th>\n",
       "      <th>margin</th>\n",
       "    </tr>\n",
       "  </thead>\n",
       "  <tbody>\n",
       "    <tr>\n",
       "      <th>0</th>\n",
       "      <td>1</td>\n",
       "      <td>700</td>\n",
       "      <td>control</td>\n",
       "      <td>4.0</td>\n",
       "      <td>False</td>\n",
       "      <td>0.0</td>\n",
       "      <td>0.0</td>\n",
       "      <td>0.0</td>\n",
       "    </tr>\n",
       "    <tr>\n",
       "      <th>1</th>\n",
       "      <td>2</td>\n",
       "      <td>700</td>\n",
       "      <td>test</td>\n",
       "      <td>3.0</td>\n",
       "      <td>False</td>\n",
       "      <td>0.0</td>\n",
       "      <td>0.0</td>\n",
       "      <td>0.0</td>\n",
       "    </tr>\n",
       "    <tr>\n",
       "      <th>2</th>\n",
       "      <td>3</td>\n",
       "      <td>700</td>\n",
       "      <td>test</td>\n",
       "      <td>3.0</td>\n",
       "      <td>False</td>\n",
       "      <td>0.0</td>\n",
       "      <td>0.0</td>\n",
       "      <td>0.0</td>\n",
       "    </tr>\n",
       "    <tr>\n",
       "      <th>3</th>\n",
       "      <td>4</td>\n",
       "      <td>700</td>\n",
       "      <td>control</td>\n",
       "      <td>4.0</td>\n",
       "      <td>False</td>\n",
       "      <td>0.0</td>\n",
       "      <td>0.0</td>\n",
       "      <td>0.0</td>\n",
       "    </tr>\n",
       "    <tr>\n",
       "      <th>4</th>\n",
       "      <td>5</td>\n",
       "      <td>700</td>\n",
       "      <td>control</td>\n",
       "      <td>4.0</td>\n",
       "      <td>True</td>\n",
       "      <td>1000.0</td>\n",
       "      <td>600.0</td>\n",
       "      <td>1600.0</td>\n",
       "    </tr>\n",
       "  </tbody>\n",
       "</table>\n",
       "</div>"
      ],
      "text/plain": [
       "   app_id  fico apr_test_group  apr  converted to sale  vehicle margin  \\\n",
       "0       1   700        control  4.0              False             0.0   \n",
       "1       2   700           test  3.0              False             0.0   \n",
       "2       3   700           test  3.0              False             0.0   \n",
       "3       4   700        control  4.0              False             0.0   \n",
       "4       5   700        control  4.0               True          1000.0   \n",
       "\n",
       "   finance margin  margin  \n",
       "0             0.0     0.0  \n",
       "1             0.0     0.0  \n",
       "2             0.0     0.0  \n",
       "3             0.0     0.0  \n",
       "4           600.0  1600.0  "
      ]
     },
     "execution_count": 26,
     "metadata": {},
     "output_type": "execute_result"
    }
   ],
   "source": [
    "df_margin = df_analysis.copy()\n",
    "df_margin['margin'] = df_margin['vehicle margin'] +   df_margin['finance margin']\n",
    "df_margin.head()"
   ]
  },
  {
   "cell_type": "code",
   "execution_count": 27,
   "metadata": {},
   "outputs": [
    {
     "name": "stdout",
     "output_type": "stream",
     "text": [
      "7475150.0\n"
     ]
    }
   ],
   "source": [
    "margin_overall = df_margin['margin'].sum()\n",
    "print (margin_overall)"
   ]
  },
  {
   "cell_type": "code",
   "execution_count": 28,
   "metadata": {},
   "outputs": [
    {
     "name": "stdout",
     "output_type": "stream",
     "text": [
      "1488.7771360286795\n"
     ]
    }
   ],
   "source": [
    "margin_per_sale = df_margin[df_margin['converted to sale']==True]['margin'].mean()\n",
    "print (margin_per_sale)"
   ]
  },
  {
   "cell_type": "code",
   "execution_count": 29,
   "metadata": {},
   "outputs": [
    {
     "name": "stdout",
     "output_type": "stream",
     "text": [
      "373.7575\n"
     ]
    }
   ],
   "source": [
    "margin_per_application = df_margin['margin'].mean()\n",
    "print (margin_per_application)"
   ]
  },
  {
   "cell_type": "markdown",
   "metadata": {},
   "source": [
    "## Q3B: How does APR affect the finance margin per sale? "
   ]
  },
  {
   "cell_type": "markdown",
   "metadata": {},
   "source": [
    "The finance margin is highest for highest APR of 5.4 (\\$650) and lowest for the lowest APR of 3.0 (\\$350.00).  However, that is reversed for the middle APRs. The finance margin for an APR of 4 is \\$600 (only \\$50 less an APR of 5.4). The finance margin for an APR of 4.4 is \\$400 (only \\$50 more than an APR of 3.0)."
   ]
  },
  {
   "cell_type": "code",
   "execution_count": 30,
   "metadata": {},
   "outputs": [
    {
     "data": {
      "image/png": "[encoded data removed]",
      "text/plain": [
       "<matplotlib.figure.Figure at 0x11ff9bf98>"
      ]
     },
     "metadata": {},
     "output_type": "display_data"
    }
   ],
   "source": [
    "    \n",
    "margin_30 = df_margin[(df_margin['apr']==3.0) & (df_margin['converted to sale']==True)]['finance margin'].mean()\n",
    "margin_40 = df_margin[(df_margin['apr']==4.0) & (df_margin['converted to sale']==True)]['finance margin'].mean()\n",
    "margin_44 = df_margin[(df_margin['apr']==4.4) & (df_margin['converted to sale']==True)]['finance margin'].mean()\n",
    "margin_54 = df_margin[(df_margin['apr']==5.4) & (df_margin['converted to sale']==True)]['finance margin'].mean()\n",
    "\n",
    "plt.bar(['3.0', '4.0', '4.4', '5.4'], \n",
    "        [margin_30,margin_40,margin_44,margin_54])\n",
    "plt.title('APR Effect on Finance Margin per Sale')\n",
    "plt.ylabel('Mean Finance Margin', fontweight='bold')\n",
    "plt.xlabel('APR', fontweight='bold')\n",
    "plt.show()"
   ]
  },
  {
   "cell_type": "markdown",
   "metadata": {},
   "source": [
    "## Q3C: How does FICO affect the finance margin per sale? "
   ]
  },
  {
   "cell_type": "markdown",
   "metadata": {},
   "source": [
    "Applicaitons with a FICO score of 600 have a finance margin of $51.92  per sale more than applicaitons with a FICO score of 700."
   ]
  },
  {
   "cell_type": "code",
   "execution_count": 31,
   "metadata": {},
   "outputs": [
    {
     "data": {
      "image/png": "[encoded data removed]",
      "text/plain": [
       "<matplotlib.figure.Figure at 0x11ff9b710>"
      ]
     },
     "metadata": {},
     "output_type": "display_data"
    }
   ],
   "source": [
    "fico_600 = df_margin[(df_margin['fico']==600) & (df_margin['converted to sale']==True)]['finance margin'].mean()\n",
    "fico_700 = df_margin[(df_margin['fico']==700) & (df_margin['converted to sale']==True)]['finance margin'].mean()\n",
    "\n",
    "plt.bar(['600', '700'], [fico_600,fico_700], color='blue' )\n",
    "plt.title('FICO Effect on Finance Margin per Sale')\n",
    "plt.ylabel('Applications', fontweight='bold')\n",
    "plt.xlabel('FICO Scores', fontweight='bold')\n",
    "plt.show()"
   ]
  },
  {
   "cell_type": "markdown",
   "metadata": {},
   "source": [
    "## Q4: If Carvana wants to optimize total margin, do you think Carvana should raise or lower rates on 700 FICO customers?  What about 600 FICO customers?"
   ]
  },
  {
   "cell_type": "markdown",
   "metadata": {},
   "source": [
    "An increase in rates for 600 and 700 FICO customer would increase total margin in both cases.  An increase in rates is, however, correlated with fewer sales."
   ]
  },
  {
   "cell_type": "code",
   "execution_count": 32,
   "metadata": {},
   "outputs": [
    {
     "data": {
      "image/png": "[encoded data removed]",
      "text/plain": [
       "<matplotlib.figure.Figure at 0x11cf42e48>"
      ]
     },
     "metadata": {},
     "output_type": "display_data"
    }
   ],
   "source": [
    "tmargin_700_30 = df_margin[(df_margin['fico']==700) \n",
    "          & (df_margin['converted to sale']==True)\n",
    "          & (df_margin['apr']==3.0)]['margin'].mean()\n",
    "\n",
    "tmargin_700_40 = df_margin[(df_margin['fico']==700) \n",
    "          & (df_margin['converted to sale']==True)\n",
    "          & (df_margin['apr']==4.0)]['margin'].mean()\n",
    "\n",
    "plt.title('Total Margin vs APR for 700 FICO')\n",
    "plt.xlabel('APR')\n",
    "plt.ylabel('Total Margin')\n",
    "\n",
    "plt.plot([3.0, 4.0], [tmargin_700_30,tmargin_700_40], 'o-')\n",
    "plt.show()"
   ]
  },
  {
   "cell_type": "code",
   "execution_count": 33,
   "metadata": {},
   "outputs": [
    {
     "data": {
      "image/png": "[encoded data removed]",
      "text/plain": [
       "<matplotlib.figure.Figure at 0x1202520f0>"
      ]
     },
     "metadata": {},
     "output_type": "display_data"
    }
   ],
   "source": [
    "tmargin_600_44 = df_margin[(df_margin['fico']==600) \n",
    "          & (df_margin['converted to sale']==True)\n",
    "          & (df_margin['apr']==4.4)]['margin'].mean()\n",
    "\n",
    "tmargin_600_54 = df_margin[(df_margin['fico']==600) \n",
    "          & (df_margin['converted to sale']==True)\n",
    "          & (df_margin['apr']==5.4)]['margin'].mean()\n",
    "\n",
    "plt.title('Total Margin vs APR for 600 FICO')\n",
    "plt.xlabel('APR')\n",
    "plt.ylabel('Total Margin')\n",
    "\n",
    "plt.plot([4.4, 5.4], [tmargin_600_44,tmargin_600_54], 'o-', color='green')\n",
    "plt.show()"
   ]
  },
  {
   "cell_type": "markdown",
   "metadata": {},
   "source": [
    "## Q5: 5.\tOther than these cut and dry numbers, can you think of other factors Carvana might want to take into account before changing rates? \n",
    "\n",
    "•\tCustomer Satisfaction: Purchasing an car from Carvana is a unique experience where word of mouth can help promote Carvana’s business model.  The method of purchase is so different from other methods of buying a car that there is the possibility of people looking for an excuse NOT to do it.  Evaluating what purchasing customers are saying about the financing could help avoid a possible road block to bringing in other customers if the customer reaction is negative.\n",
    "\n",
    "•\tBrand Sentiment on Social Media:  The reasons for considering social media sentiment are similar to the reasons for considering customer satisfaction.  A baseline of sentiment could be established before the change and evaluated after the change.  "
   ]
  }
 ],
 "metadata": {
  "kernelspec": {
   "display_name": "Python 3",
   "language": "python",
   "name": "python3"
  },
  "language_info": {
   "codemirror_mode": {
    "name": "ipython",
    "version": 3
   },
   "file_extension": ".py",
   "mimetype": "text/x-python",
   "name": "python",
   "nbconvert_exporter": "python",
   "pygments_lexer": "ipython3",
   "version": "3.6.3"
  },
  "toc": {
   "base_numbering": 1,
   "nav_menu": {},
   "number_sections": true,
   "sideBar": true,
   "skip_h1_title": false,
   "title_cell": "Table of Contents",
   "title_sidebar": "Contents",
   "toc_cell": true,
   "toc_position": {},
   "toc_section_display": true,
   "toc_window_display": false
  }
 },
 "nbformat": 4,
 "nbformat_minor": 2
}
